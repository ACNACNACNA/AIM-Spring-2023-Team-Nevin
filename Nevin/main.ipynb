{
 "cells": [
  {
   "cell_type": "code",
   "execution_count": null,
   "metadata": {},
   "outputs": [],
   "source": [
    "from EvolutionSimulator import EvolutionSimulator\n",
    "\n",
    "sim = EvolutionSimulator()\n",
<<<<<<< HEAD
    "print(\"first generation\")\n",
    "sim.show_images()   \n",
    "\n",
    "for i in range(100):\n",
    "    sim.evaluate_fitness()\n",
    "    sim.kill_population()\n",
    "    sim.reproduce()\n",
    "\n",
    "print(\"last generation\")\n",
    "sim.show_images()   \n",
=======
    "print(\"Generation 0:\")\n",
    "sim.show_images()\n",
    "for i in range(200):\n",
    "    sim.evaluate_fitness()\n",
    "    sim.kill_population()\n",
    "    sim.reproduce()\n",
    "print(\"Generation 200:\")\n",
    "sim.show_images()\n",
>>>>>>> 128fe39f4031bbfc633f77125ac7f0a3f0e08662
    "    \n",
    "\n"
   ]
  }
 ],
 "metadata": {
  "kernelspec": {
   "display_name": "env",
   "language": "python",
   "name": "python3"
  },
  "language_info": {
   "codemirror_mode": {
    "name": "ipython",
    "version": 3
   },
   "file_extension": ".py",
   "mimetype": "text/x-python",
   "name": "python",
   "nbconvert_exporter": "python",
   "pygments_lexer": "ipython3",
   "version": "3.10.7"
  },
  "orig_nbformat": 4,
  "vscode": {
   "interpreter": {
    "hash": "f1059229a01fe200ff704ee3c3c4ee8e8083d36ce134c1c565f85cc1e2702250"
   }
  }
 },
 "nbformat": 4,
 "nbformat_minor": 2
}
